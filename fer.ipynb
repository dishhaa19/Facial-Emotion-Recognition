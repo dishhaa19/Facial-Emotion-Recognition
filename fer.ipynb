{
 "cells": [
  {
   "cell_type": "code",
   "execution_count": 3,
   "id": "079dacf6-9274-4e79-8bfd-4f264cf33769",
   "metadata": {},
   "outputs": [
    {
     "name": "stdout",
     "output_type": "stream",
     "text": [
      "Imports done successfully\n"
     ]
    }
   ],
   "source": [
    "import numpy as np\n",
    "import matplotlib.pyplot as plt\n",
    "import tensorflow as tf\n",
    "from tensorflow.keras.preprocessing.image import ImageDataGenerator\n",
    "from tensorflow.keras.models import Sequential\n",
    "from tensorflow.keras.layers import Conv2D, MaxPooling2D, Flatten, Dense, Dropout\n",
    "from tensorflow.keras.optimizers import Adam\n",
    "import os\n",
    "print(\"Imports done successfully\")"
   ]
  },
  {
   "cell_type": "code",
   "execution_count": 4,
   "id": "7c376029-d3c7-4af8-9efa-301954e1ceff",
   "metadata": {},
   "outputs": [
    {
     "name": "stdout",
     "output_type": "stream",
     "text": [
      "Current working directory: C:\\Users\\DISHA\\OneDrive\\Desktop\\FaceEmotionDetection\n",
      "Changed working directory to: C:\\Users\\DISHA\\OneDrive\\Desktop\\FaceEmotionDetection\n",
      "Directories and parameters\n"
     ]
    }
   ],
   "source": [
    "# Check and change the current working directory to the project directory\n",
    "print(\"Current working directory:\", os.getcwd())\n",
    "# Set the correct project directory\n",
    "project_dir = r'C:\\Users\\DISHA\\OneDrive\\Desktop\\FaceEmotionDetection' # Change this to your actual project directory\n",
    "os.chdir(project_dir)\n",
    "print(\"Changed working directory to:\", os.getcwd())\n",
    "# Set directories for training and testing data\n",
    "train_dir = 'archive/Train'\n",
    "test_dir = 'archive/Test'\n",
    "# Define image size and batch size\n",
    "img_size = 48\n",
    "batch_size = 64\n",
    "print(\"Directories and parameters\")"
   ]
  },
  {
   "cell_type": "code",
   "execution_count": 5,
   "id": "595697fc-ba6f-4f0b-a4ac-d682f6917572",
   "metadata": {},
   "outputs": [
    {
     "name": "stdout",
     "output_type": "stream",
     "text": [
      "ImageDataGenerators created\n"
     ]
    }
   ],
   "source": [
    "# Data augmentation and normalization for training\n",
    "train_datagen = ImageDataGenerator(\n",
    "rescale=1./255,\n",
    "rotation_range=10,\n",
    "width_shift_range=0.1,\n",
    "height_shift_range=0.1,\n",
    "shear_range=0.1,\n",
    "zoom_range=0.1,\n",
    "horizontal_flip=True,\n",
    "fill_mode='nearest'\n",
    ")\n",
    "# Normalization for testing\n",
    "test_datagen = ImageDataGenerator(rescale=1./255)\n",
    "print(\"ImageDataGenerators created\")"
   ]
  },
  {
   "cell_type": "code",
   "execution_count": 6,
   "id": "6cb31e74-c956-431d-ab32-6b682ff34d4b",
   "metadata": {},
   "outputs": [
    {
     "name": "stdout",
     "output_type": "stream",
     "text": [
      "Found 28709 images belonging to 7 classes.\n",
      "Found 7178 images belonging to 7 classes.\n",
      "Data generators created\n"
     ]
    }
   ],
   "source": [
    "# Load training data\n",
    "train_generator = train_datagen.flow_from_directory(\n",
    "train_dir,\n",
    "target_size=(img_size, img_size),\n",
    "color_mode='grayscale',\n",
    "batch_size=batch_size,\n",
    "class_mode='categorical',\n",
    "shuffle=True\n",
    ")\n",
    "# Load testing data\n",
    "test_generator = test_datagen.flow_from_directory(\n",
    "test_dir,\n",
    "target_size=(img_size, img_size),\n",
    "color_mode='grayscale',\n",
    "\n",
    "batch_size=batch_size,\n",
    "class_mode='categorical',\n",
    "shuffle=False\n",
    ")\n",
    "print(\"Data generators created\")"
   ]
  },
  {
   "cell_type": "code",
   "execution_count": 7,
   "id": "0d383dff-fadb-4cfe-806d-963165d4886f",
   "metadata": {},
   "outputs": [
    {
     "name": "stdout",
     "output_type": "stream",
     "text": [
      "Model built successfully\n"
     ]
    },
    {
     "name": "stderr",
     "output_type": "stream",
     "text": [
      "C:\\Users\\DISHA\\AppData\\Local\\Programs\\Python\\Python312\\Lib\\site-packages\\keras\\src\\layers\\convolutional\\base_conv.py:107: UserWarning: Do not pass an `input_shape`/`input_dim` argument to a layer. When using Sequential models, prefer using an `Input(shape)` object as the first layer in the model instead.\n",
      "  super().__init__(activity_regularizer=activity_regularizer, **kwargs)\n"
     ]
    }
   ],
   "source": [
    "# Build the model\n",
    "model = Sequential([\n",
    "Conv2D(32, (3, 3), activation='relu', input_shape=(img_size, img_size, 1)),\n",
    "MaxPooling2D((2, 2)),\n",
    "Conv2D(64, (3, 3), activation='relu'),\n",
    "MaxPooling2D((2, 2)),\n",
    "Conv2D(128, (3, 3), activation='relu'),\n",
    "MaxPooling2D((2, 2)),\n",
    "Flatten(),\n",
    "Dense(128, activation='relu'),\n",
    "Dropout(0.5),\n",
    "Dense(7, activation='softmax')\n",
    "])\n",
    "print(\"Model built successfully\")"
   ]
  },
  {
   "cell_type": "code",
   "execution_count": 8,
   "id": "bb7a3beb-6ad5-4e6e-9660-0a6b99933aa0",
   "metadata": {},
   "outputs": [
    {
     "name": "stdout",
     "output_type": "stream",
     "text": [
      "Model compiled successfully\n"
     ]
    }
   ],
   "source": [
    "# Compile the model\n",
    "model.compile(optimizer=Adam(learning_rate=0.001), loss='categorical_crossentropy',\n",
    "metrics=['accuracy'])\n",
    "print(\"Model compiled successfully\")\n",
    "\n"
   ]
  },
  {
   "cell_type": "code",
   "execution_count": 9,
   "id": "8e6f79a2-96bf-459c-b7c7-238fd738098e",
   "metadata": {},
   "outputs": [
    {
     "name": "stdout",
     "output_type": "stream",
     "text": [
      "Epoch 1/50\n"
     ]
    },
    {
     "name": "stderr",
     "output_type": "stream",
     "text": [
      "C:\\Users\\DISHA\\AppData\\Local\\Programs\\Python\\Python312\\Lib\\site-packages\\keras\\src\\trainers\\data_adapters\\py_dataset_adapter.py:121: UserWarning: Your `PyDataset` class should call `super().__init__(**kwargs)` in its constructor. `**kwargs` can include `workers`, `use_multiprocessing`, `max_queue_size`. Do not pass these arguments to `fit()`, as they will be ignored.\n",
      "  self._warn_if_super_not_called()\n"
     ]
    },
    {
     "name": "stdout",
     "output_type": "stream",
     "text": [
      "\u001b[1m448/448\u001b[0m \u001b[32m━━━━━━━━━━━━━━━━━━━━\u001b[0m\u001b[37m\u001b[0m \u001b[1m463s\u001b[0m 1s/step - accuracy: 0.2409 - loss: 1.8225 - val_accuracy: 0.3192 - val_loss: 1.6807\n",
      "Epoch 2/50\n",
      "\u001b[1m448/448\u001b[0m \u001b[32m━━━━━━━━━━━━━━━━━━━━\u001b[0m\u001b[37m\u001b[0m \u001b[1m0s\u001b[0m 495us/step - accuracy: 0.2344 - loss: 1.8255 - val_accuracy: 0.7000 - val_loss: 1.2426\n",
      "Epoch 3/50\n"
     ]
    },
    {
     "name": "stderr",
     "output_type": "stream",
     "text": [
      "C:\\Users\\DISHA\\AppData\\Local\\Programs\\Python\\Python312\\Lib\\contextlib.py:158: UserWarning: Your input ran out of data; interrupting training. Make sure that your dataset or generator can generate at least `steps_per_epoch * epochs` batches. You may need to use the `.repeat()` function when building your dataset.\n",
      "  self.gen.throw(value)\n"
     ]
    },
    {
     "name": "stdout",
     "output_type": "stream",
     "text": [
      "\u001b[1m448/448\u001b[0m \u001b[32m━━━━━━━━━━━━━━━━━━━━\u001b[0m\u001b[37m\u001b[0m \u001b[1m356s\u001b[0m 786ms/step - accuracy: 0.3072 - loss: 1.7164 - val_accuracy: 0.4043 - val_loss: 1.5369\n",
      "Epoch 4/50\n",
      "\u001b[1m448/448\u001b[0m \u001b[32m━━━━━━━━━━━━━━━━━━━━\u001b[0m\u001b[37m\u001b[0m \u001b[1m0s\u001b[0m 152us/step - accuracy: 0.4531 - loss: 1.5343 - val_accuracy: 0.9000 - val_loss: 0.7351\n",
      "Epoch 5/50\n",
      "\u001b[1m448/448\u001b[0m \u001b[32m━━━━━━━━━━━━━━━━━━━━\u001b[0m\u001b[37m\u001b[0m \u001b[1m144s\u001b[0m 318ms/step - accuracy: 0.3661 - loss: 1.6105 - val_accuracy: 0.4615 - val_loss: 1.4345\n",
      "Epoch 6/50\n",
      "\u001b[1m448/448\u001b[0m \u001b[32m━━━━━━━━━━━━━━━━━━━━\u001b[0m\u001b[37m\u001b[0m \u001b[1m0s\u001b[0m 164us/step - accuracy: 0.4219 - loss: 1.5844 - val_accuracy: 0.7000 - val_loss: 1.0482\n",
      "Epoch 7/50\n",
      "\u001b[1m448/448\u001b[0m \u001b[32m━━━━━━━━━━━━━━━━━━━━\u001b[0m\u001b[37m\u001b[0m \u001b[1m144s\u001b[0m 320ms/step - accuracy: 0.4163 - loss: 1.5127 - val_accuracy: 0.4844 - val_loss: 1.3384\n",
      "Epoch 8/50\n",
      "\u001b[1m448/448\u001b[0m \u001b[32m━━━━━━━━━━━━━━━━━━━━\u001b[0m\u001b[37m\u001b[0m \u001b[1m0s\u001b[0m 149us/step - accuracy: 0.3906 - loss: 1.4977 - val_accuracy: 0.9000 - val_loss: 0.5064\n",
      "Epoch 9/50\n",
      "\u001b[1m448/448\u001b[0m \u001b[32m━━━━━━━━━━━━━━━━━━━━\u001b[0m\u001b[37m\u001b[0m \u001b[1m140s\u001b[0m 310ms/step - accuracy: 0.4385 - loss: 1.4524 - val_accuracy: 0.5130 - val_loss: 1.2879\n",
      "Epoch 10/50\n",
      "\u001b[1m448/448\u001b[0m \u001b[32m━━━━━━━━━━━━━━━━━━━━\u001b[0m\u001b[37m\u001b[0m \u001b[1m0s\u001b[0m 158us/step - accuracy: 0.5000 - loss: 1.4460 - val_accuracy: 1.0000 - val_loss: 0.5620\n",
      "Epoch 11/50\n",
      "\u001b[1m448/448\u001b[0m \u001b[32m━━━━━━━━━━━━━━━━━━━━\u001b[0m\u001b[37m\u001b[0m \u001b[1m145s\u001b[0m 320ms/step - accuracy: 0.4611 - loss: 1.4017 - val_accuracy: 0.5201 - val_loss: 1.2555\n",
      "Epoch 12/50\n",
      "\u001b[1m448/448\u001b[0m \u001b[32m━━━━━━━━━━━━━━━━━━━━\u001b[0m\u001b[37m\u001b[0m \u001b[1m0s\u001b[0m 146us/step - accuracy: 0.3906 - loss: 1.4743 - val_accuracy: 0.9000 - val_loss: 0.5985\n",
      "Epoch 13/50\n",
      "\u001b[1m448/448\u001b[0m \u001b[32m━━━━━━━━━━━━━━━━━━━━\u001b[0m\u001b[37m\u001b[0m \u001b[1m146s\u001b[0m 324ms/step - accuracy: 0.4761 - loss: 1.3751 - val_accuracy: 0.5246 - val_loss: 1.2315\n",
      "Epoch 14/50\n",
      "\u001b[1m448/448\u001b[0m \u001b[32m━━━━━━━━━━━━━━━━━━━━\u001b[0m\u001b[37m\u001b[0m \u001b[1m0s\u001b[0m 195us/step - accuracy: 0.5312 - loss: 1.2074 - val_accuracy: 0.9000 - val_loss: 0.5768\n",
      "Epoch 15/50\n",
      "\u001b[1m448/448\u001b[0m \u001b[32m━━━━━━━━━━━━━━━━━━━━\u001b[0m\u001b[37m\u001b[0m \u001b[1m150s\u001b[0m 332ms/step - accuracy: 0.4959 - loss: 1.3354 - val_accuracy: 0.5377 - val_loss: 1.2136\n",
      "Epoch 16/50\n",
      "\u001b[1m448/448\u001b[0m \u001b[32m━━━━━━━━━━━━━━━━━━━━\u001b[0m\u001b[37m\u001b[0m \u001b[1m0s\u001b[0m 112us/step - accuracy: 0.4062 - loss: 1.4000 - val_accuracy: 1.0000 - val_loss: 0.4623\n",
      "Epoch 17/50\n",
      "\u001b[1m448/448\u001b[0m \u001b[32m━━━━━━━━━━━━━━━━━━━━\u001b[0m\u001b[37m\u001b[0m \u001b[1m144s\u001b[0m 320ms/step - accuracy: 0.5020 - loss: 1.3187 - val_accuracy: 0.5352 - val_loss: 1.2060\n",
      "Epoch 18/50\n",
      "\u001b[1m448/448\u001b[0m \u001b[32m━━━━━━━━━━━━━━━━━━━━\u001b[0m\u001b[37m\u001b[0m \u001b[1m0s\u001b[0m 141us/step - accuracy: 0.5469 - loss: 1.2720 - val_accuracy: 1.0000 - val_loss: 0.4111\n",
      "Epoch 19/50\n",
      "\u001b[1m448/448\u001b[0m \u001b[32m━━━━━━━━━━━━━━━━━━━━\u001b[0m\u001b[37m\u001b[0m \u001b[1m144s\u001b[0m 320ms/step - accuracy: 0.5041 - loss: 1.3080 - val_accuracy: 0.5421 - val_loss: 1.1934\n",
      "Epoch 20/50\n",
      "\u001b[1m448/448\u001b[0m \u001b[32m━━━━━━━━━━━━━━━━━━━━\u001b[0m\u001b[37m\u001b[0m \u001b[1m0s\u001b[0m 107us/step - accuracy: 0.5781 - loss: 1.1603 - val_accuracy: 0.9000 - val_loss: 0.4022\n",
      "Epoch 21/50\n",
      "\u001b[1m448/448\u001b[0m \u001b[32m━━━━━━━━━━━━━━━━━━━━\u001b[0m\u001b[37m\u001b[0m \u001b[1m142s\u001b[0m 314ms/step - accuracy: 0.5079 - loss: 1.2872 - val_accuracy: 0.5463 - val_loss: 1.1793\n",
      "Epoch 22/50\n",
      "\u001b[1m448/448\u001b[0m \u001b[32m━━━━━━━━━━━━━━━━━━━━\u001b[0m\u001b[37m\u001b[0m \u001b[1m0s\u001b[0m 110us/step - accuracy: 0.5312 - loss: 1.1974 - val_accuracy: 1.0000 - val_loss: 0.3127\n",
      "Epoch 23/50\n",
      "\u001b[1m448/448\u001b[0m \u001b[32m━━━━━━━━━━━━━━━━━━━━\u001b[0m\u001b[37m\u001b[0m \u001b[1m139s\u001b[0m 308ms/step - accuracy: 0.5075 - loss: 1.2893 - val_accuracy: 0.5529 - val_loss: 1.1618\n",
      "Epoch 24/50\n",
      "\u001b[1m448/448\u001b[0m \u001b[32m━━━━━━━━━━━━━━━━━━━━\u001b[0m\u001b[37m\u001b[0m \u001b[1m0s\u001b[0m 110us/step - accuracy: 0.5781 - loss: 1.1107 - val_accuracy: 0.9000 - val_loss: 0.4570\n",
      "Epoch 25/50\n",
      "\u001b[1m448/448\u001b[0m \u001b[32m━━━━━━━━━━━━━━━━━━━━\u001b[0m\u001b[37m\u001b[0m \u001b[1m142s\u001b[0m 314ms/step - accuracy: 0.5240 - loss: 1.2586 - val_accuracy: 0.5548 - val_loss: 1.1590\n",
      "Epoch 26/50\n",
      "\u001b[1m448/448\u001b[0m \u001b[32m━━━━━━━━━━━━━━━━━━━━\u001b[0m\u001b[37m\u001b[0m \u001b[1m0s\u001b[0m 110us/step - accuracy: 0.5000 - loss: 1.4018 - val_accuracy: 1.0000 - val_loss: 0.3525\n",
      "Epoch 27/50\n",
      "\u001b[1m448/448\u001b[0m \u001b[32m━━━━━━━━━━━━━━━━━━━━\u001b[0m\u001b[37m\u001b[0m \u001b[1m144s\u001b[0m 318ms/step - accuracy: 0.5246 - loss: 1.2592 - val_accuracy: 0.5537 - val_loss: 1.1583\n",
      "Epoch 28/50\n",
      "\u001b[1m448/448\u001b[0m \u001b[32m━━━━━━━━━━━━━━━━━━━━\u001b[0m\u001b[37m\u001b[0m \u001b[1m0s\u001b[0m 111us/step - accuracy: 0.5000 - loss: 1.1986 - val_accuracy: 0.9000 - val_loss: 0.5610\n",
      "Epoch 29/50\n",
      "\u001b[1m448/448\u001b[0m \u001b[32m━━━━━━━━━━━━━━━━━━━━\u001b[0m\u001b[37m\u001b[0m \u001b[1m143s\u001b[0m 318ms/step - accuracy: 0.5343 - loss: 1.2395 - val_accuracy: 0.5605 - val_loss: 1.1448\n",
      "Epoch 30/50\n",
      "\u001b[1m448/448\u001b[0m \u001b[32m━━━━━━━━━━━━━━━━━━━━\u001b[0m\u001b[37m\u001b[0m \u001b[1m0s\u001b[0m 95us/step - accuracy: 0.4375 - loss: 1.4740 - val_accuracy: 0.8000 - val_loss: 0.4990\n",
      "Epoch 31/50\n",
      "\u001b[1m448/448\u001b[0m \u001b[32m━━━━━━━━━━━━━━━━━━━━\u001b[0m\u001b[37m\u001b[0m \u001b[1m144s\u001b[0m 319ms/step - accuracy: 0.5310 - loss: 1.2336 - val_accuracy: 0.5638 - val_loss: 1.1382\n",
      "Epoch 32/50\n",
      "\u001b[1m448/448\u001b[0m \u001b[32m━━━━━━━━━━━━━━━━━━━━\u001b[0m\u001b[37m\u001b[0m \u001b[1m0s\u001b[0m 127us/step - accuracy: 0.5000 - loss: 1.2441 - val_accuracy: 0.9000 - val_loss: 0.4927\n",
      "Epoch 33/50\n",
      "\u001b[1m448/448\u001b[0m \u001b[32m━━━━━━━━━━━━━━━━━━━━\u001b[0m\u001b[37m\u001b[0m \u001b[1m144s\u001b[0m 318ms/step - accuracy: 0.5358 - loss: 1.2293 - val_accuracy: 0.5658 - val_loss: 1.1313\n",
      "Epoch 34/50\n",
      "\u001b[1m448/448\u001b[0m \u001b[32m━━━━━━━━━━━━━━━━━━━━\u001b[0m\u001b[37m\u001b[0m \u001b[1m0s\u001b[0m 112us/step - accuracy: 0.5312 - loss: 1.1988 - val_accuracy: 0.9000 - val_loss: 0.3510\n",
      "Epoch 35/50\n",
      "\u001b[1m448/448\u001b[0m \u001b[32m━━━━━━━━━━━━━━━━━━━━\u001b[0m\u001b[37m\u001b[0m \u001b[1m145s\u001b[0m 321ms/step - accuracy: 0.5400 - loss: 1.2135 - val_accuracy: 0.5614 - val_loss: 1.1413\n",
      "Epoch 36/50\n",
      "\u001b[1m448/448\u001b[0m \u001b[32m━━━━━━━━━━━━━━━━━━━━\u001b[0m\u001b[37m\u001b[0m \u001b[1m0s\u001b[0m 119us/step - accuracy: 0.6406 - loss: 1.2054 - val_accuracy: 1.0000 - val_loss: 0.4700\n",
      "Epoch 37/50\n",
      "\u001b[1m448/448\u001b[0m \u001b[32m━━━━━━━━━━━━━━━━━━━━\u001b[0m\u001b[37m\u001b[0m \u001b[1m143s\u001b[0m 318ms/step - accuracy: 0.5496 - loss: 1.2039 - val_accuracy: 0.5631 - val_loss: 1.1348\n",
      "Epoch 38/50\n",
      "\u001b[1m448/448\u001b[0m \u001b[32m━━━━━━━━━━━━━━━━━━━━\u001b[0m\u001b[37m\u001b[0m \u001b[1m0s\u001b[0m 110us/step - accuracy: 0.5781 - loss: 1.0982 - val_accuracy: 0.9000 - val_loss: 0.5532\n",
      "Epoch 39/50\n",
      "\u001b[1m448/448\u001b[0m \u001b[32m━━━━━━━━━━━━━━━━━━━━\u001b[0m\u001b[37m\u001b[0m \u001b[1m144s\u001b[0m 320ms/step - accuracy: 0.5428 - loss: 1.2093 - val_accuracy: 0.5804 - val_loss: 1.1149\n",
      "Epoch 40/50\n",
      "\u001b[1m448/448\u001b[0m \u001b[32m━━━━━━━━━━━━━━━━━━━━\u001b[0m\u001b[37m\u001b[0m \u001b[1m0s\u001b[0m 93us/step - accuracy: 0.6250 - loss: 1.1436 - val_accuracy: 0.9000 - val_loss: 0.6272\n",
      "Epoch 41/50\n",
      "\u001b[1m448/448\u001b[0m \u001b[32m━━━━━━━━━━━━━━━━━━━━\u001b[0m\u001b[37m\u001b[0m \u001b[1m148s\u001b[0m 327ms/step - accuracy: 0.5510 - loss: 1.1875 - val_accuracy: 0.5780 - val_loss: 1.1089\n",
      "Epoch 42/50\n",
      "\u001b[1m448/448\u001b[0m \u001b[32m━━━━━━━━━━━━━━━━━━━━\u001b[0m\u001b[37m\u001b[0m \u001b[1m0s\u001b[0m 106us/step - accuracy: 0.6094 - loss: 1.1784 - val_accuracy: 1.0000 - val_loss: 0.3844\n",
      "Epoch 43/50\n",
      "\u001b[1m448/448\u001b[0m \u001b[32m━━━━━━━━━━━━━━━━━━━━\u001b[0m\u001b[37m\u001b[0m \u001b[1m146s\u001b[0m 324ms/step - accuracy: 0.5496 - loss: 1.1847 - val_accuracy: 0.5706 - val_loss: 1.1225\n",
      "Epoch 44/50\n",
      "\u001b[1m448/448\u001b[0m \u001b[32m━━━━━━━━━━━━━━━━━━━━\u001b[0m\u001b[37m\u001b[0m \u001b[1m0s\u001b[0m 107us/step - accuracy: 0.5469 - loss: 1.2216 - val_accuracy: 0.9000 - val_loss: 0.4285\n",
      "Epoch 45/50\n",
      "\u001b[1m448/448\u001b[0m \u001b[32m━━━━━━━━━━━━━━━━━━━━\u001b[0m\u001b[37m\u001b[0m \u001b[1m148s\u001b[0m 327ms/step - accuracy: 0.5469 - loss: 1.1931 - val_accuracy: 0.5698 - val_loss: 1.1180\n",
      "Epoch 46/50\n",
      "\u001b[1m448/448\u001b[0m \u001b[32m━━━━━━━━━━━━━━━━━━━━\u001b[0m\u001b[37m\u001b[0m \u001b[1m0s\u001b[0m 117us/step - accuracy: 0.6094 - loss: 1.1295 - val_accuracy: 0.8000 - val_loss: 0.5042\n",
      "Epoch 47/50\n",
      "\u001b[1m448/448\u001b[0m \u001b[32m━━━━━━━━━━━━━━━━━━━━\u001b[0m\u001b[37m\u001b[0m \u001b[1m149s\u001b[0m 331ms/step - accuracy: 0.5558 - loss: 1.1813 - val_accuracy: 0.5762 - val_loss: 1.1056\n",
      "Epoch 48/50\n",
      "\u001b[1m448/448\u001b[0m \u001b[32m━━━━━━━━━━━━━━━━━━━━\u001b[0m\u001b[37m\u001b[0m \u001b[1m0s\u001b[0m 113us/step - accuracy: 0.5469 - loss: 1.2239 - val_accuracy: 0.8000 - val_loss: 0.8008\n",
      "Epoch 49/50\n",
      "\u001b[1m448/448\u001b[0m \u001b[32m━━━━━━━━━━━━━━━━━━━━\u001b[0m\u001b[37m\u001b[0m \u001b[1m151s\u001b[0m 334ms/step - accuracy: 0.5551 - loss: 1.1687 - val_accuracy: 0.5820 - val_loss: 1.0882\n",
      "Epoch 50/50\n",
      "\u001b[1m448/448\u001b[0m \u001b[32m━━━━━━━━━━━━━━━━━━━━\u001b[0m\u001b[37m\u001b[0m \u001b[1m0s\u001b[0m 119us/step - accuracy: 0.4865 - loss: 1.4262 - val_accuracy: 0.8000 - val_loss: 0.4213\n",
      "Model trained successfully\n"
     ]
    }
   ],
   "source": [
    "# Train the model\n",
    "history = model.fit(\n",
    "    train_generator,\n",
    "    steps_per_epoch=train_generator.n // train_generator.batch_size,\n",
    "    epochs=50,\n",
    "    validation_data=test_generator,\n",
    "    validation_steps=test_generator.n // test_generator.batch_size\n",
    ")\n",
    "\n",
    "print(\"Model trained successfully\")"
   ]
  },
  {
   "cell_type": "code",
   "execution_count": 10,
   "id": "7a14cc04-0607-4bf6-b1c3-4a2825629413",
   "metadata": {},
   "outputs": [
    {
     "name": "stdout",
     "output_type": "stream",
     "text": [
      "Validation loss: 1.081113338470459, Validation accuracy: 0.585121214389801\n"
     ]
    },
    {
     "data": {
      "image/png": "[encoded data removed]",
      "text/plain": [
       "<Figure size 640x480 with 1 Axes>"
      ]
     },
     "metadata": {},
     "output_type": "display_data"
    }
   ],
   "source": [
    "# Evaluate the model\n",
    "val_loss, val_accuracy = model.evaluate(test_generator, verbose=0)\n",
    "print(f'Validation loss: {val_loss}, Validation accuracy: {val_accuracy}')\n",
    "# Plot the training history\n",
    "plt.plot(history.history['accuracy'], label='accuracy')\n",
    "plt.plot(history.history['val_accuracy'], label='val_accuracy')\n",
    "plt.xlabel('Epoch')\n",
    "plt.ylabel('Accuracy')\n",
    "plt.legend()\n",
    "plt.show()"
   ]
  },
  {
   "cell_type": "code",
   "execution_count": 9,
   "id": "3aa90552-b678-49f5-ae31-392515b9e59a",
   "metadata": {},
   "outputs": [
    {
     "name": "stderr",
     "output_type": "stream",
     "text": [
      "WARNING:absl:You are saving your model as an HDF5 file via `model.save()` or `keras.saving.save_model(model)`. This file format is considered legacy. We recommend using instead the native Keras format, e.g. `model.save('my_model.keras')` or `keras.saving.save_model(model, 'my_model.keras')`. \n"
     ]
    },
    {
     "name": "stdout",
     "output_type": "stream",
     "text": [
      "Model saved successfully\n"
     ]
    }
   ],
   "source": [
    "# Save the model\n",
    "model.save('FaceEmotionDetection.h5')\n",
    "print(\"Model saved successfully\")"
   ]
  },
  {
   "cell_type": "code",
   "execution_count": 13,
   "id": "cbf85509-18ab-4baf-87be-9acccde39978",
   "metadata": {},
   "outputs": [
    {
     "name": "stdout",
     "output_type": "stream",
     "text": [
      "Prediction function defined\n"
     ]
    }
   ],
   "source": [
    "# Function to predict emotion from an image\n",
    "def predict_emotion(image):\n",
    "    image = np.expand_dims(image, axis=0)\n",
    "    image = image / 255.0\n",
    "    predictions = model.predict(image)\n",
    "    return np.argmax(predictions)\n",
    "print(\"Prediction function defined\")"
   ]
  },
  {
   "cell_type": "code",
   "execution_count": 16,
   "id": "9d992633-189a-4b37-bfc5-df125f52c0f0",
   "metadata": {},
   "outputs": [
    {
     "name": "stderr",
     "output_type": "stream",
     "text": [
      "WARNING:absl:Compiled the loaded model, but the compiled metrics have yet to be built. `model.compile_metrics` will be empty until you train or evaluate the model.\n"
     ]
    }
   ],
   "source": [
    "from tensorflow.keras.models import load_model\n",
    "# Load the previously saved model\n",
    "model = load_model('EmotionDetectionModel.h5')"
   ]
  },
  {
   "cell_type": "code",
   "execution_count": 17,
   "id": "f9b70379-89ca-42f9-87f4-7793f6a67c55",
   "metadata": {},
   "outputs": [
    {
     "name": "stderr",
     "output_type": "stream",
     "text": [
      "WARNING:absl:Compiled the loaded model, but the compiled metrics have yet to be built. `model.compile_metrics` will be empty until you train or evaluate the model.\n"
     ]
    },
    {
     "name": "stdout",
     "output_type": "stream",
     "text": [
      "Error: Failed to capture frame\n"
     ]
    }
   ],
   "source": [
    "import cv2\n",
    "import numpy as np\n",
    "from tensorflow.keras.models import load_model\n",
    "\n",
    "# Define emotion labels\n",
    "emotion_labels = ['Angry', 'Disgust', 'Fear', 'Happy', 'Sad', 'Surprise', 'Neutral']\n",
    "\n",
    "# Initialize the webcam\n",
    "cap = cv2.VideoCapture(0)\n",
    "\n",
    "# Ensure that the video capture is opened successfully\n",
    "if not cap.isOpened():\n",
    "    print(\"Error: Could not open video capture\")\n",
    "    exit()\n",
    "\n",
    "# Load the pre-trained model\n",
    "model = load_model('EmotionDetectionModel.h5')\n",
    "\n",
    "# Load the face detector\n",
    "face_cascade = cv2.CascadeClassifier(cv2.data.haarcascades + 'haarcascade_frontalface_default.xml')\n",
    "\n",
    "while True:\n",
    "    # Capture frame-by-frame\n",
    "    ret, frame = cap.read()\n",
    "    \n",
    "    if not ret:\n",
    "        print(\"Error: Failed to capture frame\")\n",
    "        break\n",
    "    \n",
    "    # Convert the frame to grayscale\n",
    "    gray = cv2.cvtColor(frame, cv2.COLOR_BGR2GRAY)\n",
    "    \n",
    "    # Detect faces in the frame\n",
    "    faces = face_cascade.detectMultiScale(gray, scaleFactor=1.1, minNeighbors=5, minSize=(48, 48))\n",
    "    \n",
    "    for (x, y, w, h) in faces:\n",
    "        # Extract the region of interest (the face)\n",
    "        roi_gray = gray[y:y+h, x:x+w]\n",
    "        roi_gray = cv2.resize(roi_gray, (48, 48))\n",
    "        roi_gray = roi_gray.astype('float32') / 255.0\n",
    "        roi_gray = np.expand_dims(roi_gray, axis=0)\n",
    "        roi_gray = np.expand_dims(roi_gray, axis=-1)\n",
    "        \n",
    "        # Make a prediction on the face\n",
    "        prediction = model.predict(roi_gray)\n",
    "        max_index = np.argmax(prediction[0])\n",
    "        predicted_emotion = emotion_labels[max_index]\n",
    "        \n",
    "        # Draw a rectangle around the face and label the emotion\n",
    "        cv2.rectangle(frame, (x, y), (x+w, y+h), (255, 0, 0), 2)\n",
    "        cv2.putText(frame, predicted_emotion, (x, y-10), cv2.FONT_HERSHEY_SIMPLEX, 1, (255, 0, 0), 2, cv2.LINE_AA)\n",
    "    \n",
    "    # Display the resulting frame\n",
    "    cv2.imshow('Facial Emotion Recognition', frame)\n",
    "    \n",
    "    # Break the loop if 'q' is pressed\n",
    "    if cv2.waitKey(1) & 0xFF == ord('q'):\n",
    "        break\n",
    "\n",
    "# Release the webcam and close windows\n",
    "cap.release()\n",
    "cv2.destroyAllWindows()"
   ]
  },
  {
   "cell_type": "code",
   "execution_count": null,
   "id": "ee7d1581-a943-4fe5-9396-8e63daed932a",
   "metadata": {},
   "outputs": [],
   "source": []
  }
 ],
 "metadata": {
  "kernelspec": {
   "display_name": "Python 3 (ipykernel)",
   "language": "python",
   "name": "python3"
  },
  "language_info": {
   "codemirror_mode": {
    "name": "ipython",
    "version": 3
   },
   "file_extension": ".py",
   "mimetype": "text/x-python",
   "name": "python",
   "nbconvert_exporter": "python",
   "pygments_lexer": "ipython3",
   "version": "3.12.4"
  }
 },
 "nbformat": 4,
 "nbformat_minor": 5
}
